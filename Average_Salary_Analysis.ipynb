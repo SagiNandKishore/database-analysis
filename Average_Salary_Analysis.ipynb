{
 "cells": [
  {
   "cell_type": "code",
   "execution_count": 1,
   "metadata": {},
   "outputs": [],
   "source": [
    "from config import connection as conn\n",
    "from sqlalchemy import create_engine\n",
    "import pandas as pd\n",
    "import matplotlib.pyplot as plt\n",
    "import numpy as np"
   ]
  },
  {
   "cell_type": "code",
   "execution_count": 2,
   "metadata": {},
   "outputs": [],
   "source": [
    "connection_details = conn.connection\n",
    "hostname = connection_details[\"hostname\"]\n",
    "port=connection_details[\"portnumber\"]\n",
    "db_name = connection_details[\"database_name\"]\n",
    "username = connection_details[\"username\"]\n",
    "password = connection_details[\"password\"]\n",
    "engine = create_engine(f'postgresql://{username}:{password}@{hostname}:{port}/{db_name}')"
   ]
  },
  {
   "cell_type": "code",
   "execution_count": 3,
   "metadata": {},
   "outputs": [],
   "source": [
    "sql_statement = \"\"\"\n",
    "WITH EMP_LATEST_TITLE_WITH\n",
    "AS\n",
    "    (\n",
    "        SELECT EMP_TITLE.EMP_NO, TITLE\n",
    "        FROM T_EMP_TITLE EMP_TITLE\n",
    "            JOIN (\n",
    "                    SELECT EMP_NO, MAX(TO_DATE) AS LATEST_TO_DATE\n",
    "                    FROM T_EMP_TITLE TITLE\n",
    "                    GROUP BY EMP_NO\n",
    "                 ) EMP_LATEST_TITLE ON (EMP_LATEST_TITLE.EMP_NO = EMP_TITLE.EMP_NO AND EMP_LATEST_TITLE.LATEST_TO_DATE = EMP_TITLE.TO_DATE)\n",
    "    ),\n",
    "EMP_LATEST_SALARY_WITH\n",
    "AS\n",
    "    (\n",
    "        SELECT SAL.EMP_NO, SAL.SALARY\n",
    "        FROM T_EMP_SALARY SAL\n",
    "            JOIN (\n",
    "                    SELECT EMP_NO, MAX(TO_DATE) AS LATEST_TO_DATE\n",
    "                    FROM T_EMP_SALARY\n",
    "                    GROUP BY EMP_NO\n",
    "                 ) EMP_LATEST_SAL ON (EMP_LATEST_SAL.EMP_NO = SAL.EMP_NO AND EMP_LATEST_SAL.LATEST_TO_DATE = SAL.TO_DATE)\n",
    "    )    \n",
    "SELECT TITLE, ROUND(CAST(AVG(SALARY) AS NUMERIC), 2) AS AVG_SALARY\n",
    "FROM EMP_LATEST_TITLE_WITH TITLE\n",
    "    JOIN EMP_LATEST_SALARY_WITH SAL ON (SAL.EMP_NO = TITLE.EMP_NO)\n",
    "GROUP BY TITLE\n",
    "ORDER BY TITLE\n",
    "\"\"\""
   ]
  },
  {
   "cell_type": "code",
   "execution_count": 4,
   "metadata": {},
   "outputs": [],
   "source": [
    "resultset = pd.read_sql(sql_statement, engine)"
   ]
  },
  {
   "cell_type": "code",
   "execution_count": 5,
   "metadata": {},
   "outputs": [
    {
     "data": {
      "text/html": [
       "<div>\n",
       "<style scoped>\n",
       "    .dataframe tbody tr th:only-of-type {\n",
       "        vertical-align: middle;\n",
       "    }\n",
       "\n",
       "    .dataframe tbody tr th {\n",
       "        vertical-align: top;\n",
       "    }\n",
       "\n",
       "    .dataframe thead th {\n",
       "        text-align: right;\n",
       "    }\n",
       "</style>\n",
       "<table border=\"1\" class=\"dataframe\">\n",
       "  <thead>\n",
       "    <tr style=\"text-align: right;\">\n",
       "      <th></th>\n",
       "      <th>title</th>\n",
       "      <th>avg_salary</th>\n",
       "    </tr>\n",
       "  </thead>\n",
       "  <tbody>\n",
       "    <tr>\n",
       "      <th>0</th>\n",
       "      <td>Assistant Engineer</td>\n",
       "      <td>48564.43</td>\n",
       "    </tr>\n",
       "    <tr>\n",
       "      <th>1</th>\n",
       "      <td>Engineer</td>\n",
       "      <td>48535.14</td>\n",
       "    </tr>\n",
       "    <tr>\n",
       "      <th>2</th>\n",
       "      <td>Manager</td>\n",
       "      <td>49600.56</td>\n",
       "    </tr>\n",
       "    <tr>\n",
       "      <th>3</th>\n",
       "      <td>Senior Engineer</td>\n",
       "      <td>48506.80</td>\n",
       "    </tr>\n",
       "    <tr>\n",
       "      <th>4</th>\n",
       "      <td>Senior Staff</td>\n",
       "      <td>58503.99</td>\n",
       "    </tr>\n",
       "    <tr>\n",
       "      <th>5</th>\n",
       "      <td>Staff</td>\n",
       "      <td>58432.87</td>\n",
       "    </tr>\n",
       "    <tr>\n",
       "      <th>6</th>\n",
       "      <td>Technique Leader</td>\n",
       "      <td>48582.43</td>\n",
       "    </tr>\n",
       "  </tbody>\n",
       "</table>\n",
       "</div>"
      ],
      "text/plain": [
       "                title  avg_salary\n",
       "0  Assistant Engineer    48564.43\n",
       "1            Engineer    48535.14\n",
       "2             Manager    49600.56\n",
       "3     Senior Engineer    48506.80\n",
       "4        Senior Staff    58503.99\n",
       "5               Staff    58432.87\n",
       "6    Technique Leader    48582.43"
      ]
     },
     "execution_count": 5,
     "metadata": {},
     "output_type": "execute_result"
    }
   ],
   "source": [
    "resultset.head(10)"
   ]
  },
  {
   "cell_type": "code",
   "execution_count": 6,
   "metadata": {},
   "outputs": [
    {
     "data": {
      "image/png": "[encoded data removed]",
      "text/plain": [
       "<Figure size 1080x360 with 1 Axes>"
      ]
     },
     "metadata": {
      "needs_background": "light"
     },
     "output_type": "display_data"
    }
   ],
   "source": [
    "resultset.plot(kind = \"bar\", x=\"title\", y=\"avg_salary\", title =\"Average Salary by Employee Title\", figsize = [15,5])\n",
    "plt.xlabel(\"Title\")\n",
    "plt.ylabel(\"Average Salary\")\n",
    "plt.show()"
   ]
  },
  {
   "cell_type": "code",
   "execution_count": 7,
   "metadata": {},
   "outputs": [
    {
     "data": {
      "text/plain": [
       "<Figure size 432x288 with 0 Axes>"
      ]
     },
     "metadata": {},
     "output_type": "display_data"
    }
   ],
   "source": [
    "plt.savefig(\"Average_Salary_By_Title_Analysis.png\")"
   ]
  }
 ],
 "metadata": {
  "kernelspec": {
   "display_name": "Python 3",
   "language": "python",
   "name": "python3"
  },
  "language_info": {
   "codemirror_mode": {
    "name": "ipython",
    "version": 3
   },
   "file_extension": ".py",
   "mimetype": "text/x-python",
   "name": "python",
   "nbconvert_exporter": "python",
   "pygments_lexer": "ipython3",
   "version": "3.7.3"
  }
 },
 "nbformat": 4,
 "nbformat_minor": 2
}
